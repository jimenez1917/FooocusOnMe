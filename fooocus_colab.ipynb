{
  "cells": [
    {
      "cell_type": "markdown",
      "metadata": {
        "id": "view-in-github",
        "colab_type": "text"
      },
      "source": [
        "<a href=\"https://colab.research.google.com/github/jimenez1917/Fooocus/blob/main/fooocus_colab.ipynb\" target=\"_parent\"><img src=\"https://colab.research.google.com/assets/colab-badge.svg\" alt=\"Open In Colab\"/></a>"
      ]
    },
    {
      "cell_type": "code",
      "execution_count": 1,
      "metadata": {
        "id": "VjYy0F2gZIPR",
        "colab": {
          "base_uri": "https://localhost:8080/"
        },
        "outputId": "55a00ebf-4383-409e-8ae5-c7642de6fa54"
      },
      "outputs": [
        {
          "output_type": "stream",
          "name": "stdout",
          "text": [
            "Collecting pygit2==1.12.2\n",
            "  Downloading pygit2-1.12.2-cp310-cp310-manylinux_2_17_x86_64.manylinux2014_x86_64.whl (4.9 MB)\n",
            "\u001b[2K     \u001b[90m━━━━━━━━━━━━━━━━━━━━━━━━━━━━━━━━━━━━━━━━\u001b[0m \u001b[32m4.9/4.9 MB\u001b[0m \u001b[31m13.8 MB/s\u001b[0m eta \u001b[36m0:00:00\u001b[0m\n",
            "\u001b[?25hRequirement already satisfied: cffi>=1.9.1 in /usr/local/lib/python3.10/dist-packages (from pygit2==1.12.2) (1.16.0)\n",
            "Requirement already satisfied: pycparser in /usr/local/lib/python3.10/dist-packages (from cffi>=1.9.1->pygit2==1.12.2) (2.21)\n",
            "Installing collected packages: pygit2\n",
            "Successfully installed pygit2-1.12.2\n",
            "/content\n",
            "Cloning into 'Fooocus'...\n",
            "remote: Enumerating objects: 5405, done.\u001b[K\n",
            "remote: Counting objects: 100% (2587/2587), done.\u001b[K\n",
            "remote: Compressing objects: 100% (303/303), done.\u001b[K\n",
            "remote: Total 5405 (delta 2356), reused 2284 (delta 2284), pack-reused 2818\u001b[K\n",
            "Receiving objects: 100% (5405/5405), 32.26 MiB | 30.47 MiB/s, done.\n",
            "Resolving deltas: 100% (3210/3210), done.\n"
          ]
        }
      ],
      "source": [
        "!pip install pygit2==1.12.2\n",
        "%cd /content\n",
        "!git clone https://github.com/jimenez1917/Fooocus.git\n",
        "# %cd /content/Fooocus\n",
        "# !python entry_with_update.py --share\n"
      ]
    },
    {
      "cell_type": "code",
      "source": [
        "%cd /content/Fooocus\n",
        "!python entry_with_update.py --share"
      ],
      "metadata": {
        "colab": {
          "base_uri": "https://localhost:8080/"
        },
        "id": "oT82hWmhUEcZ",
        "outputId": "138681f4-e624-40fc-e456-233c458d186d"
      },
      "execution_count": 4,
      "outputs": [
        {
          "output_type": "stream",
          "name": "stdout",
          "text": [
            "/content/Fooocus\n",
            "Already up-to-date\n",
            "Update succeeded.\n",
            "[System ARGV] ['entry_with_update.py', '--share']\n",
            "Python 3.10.12 (main, Nov 20 2023, 15:14:05) [GCC 11.4.0]\n",
            "Fooocus version: 2.1.865\n",
            "Error in sys.excepthook:\n",
            "Traceback (most recent call last):\n",
            "  File \"/usr/lib/python3.10/linecache.py\", line 46, in getlines\n",
            "    return updatecache(filename, module_globals)\n",
            "  File \"/usr/lib/python3.10/linecache.py\", line 136, in updatecache\n",
            "    with tokenize.open(fullname) as fp:\n",
            "  File \"/usr/lib/python3.10/tokenize.py\", line 394, in open\n",
            "    buffer = _builtin_open(filename, 'rb')\n",
            "KeyboardInterrupt\n",
            "\n",
            "Original exception was:\n",
            "Traceback (most recent call last):\n",
            "  File \"/content/Fooocus/entry_with_update.py\", line 46, in <module>\n",
            "    from launch import *\n",
            "  File \"/content/Fooocus/launch.py\", line 128, in <module>\n",
            "    from webui import *\n",
            "  File \"/content/Fooocus/webui.py\", line 1, in <module>\n",
            "    import gradio as gr\n",
            "  File \"/usr/local/lib/python3.10/dist-packages/gradio/__init__.py\", line 3, in <module>\n",
            "    import gradio.components as components\n",
            "  File \"/usr/local/lib/python3.10/dist-packages/gradio/components/__init__.py\", line 1, in <module>\n",
            "    from gradio.components.annotated_image import AnnotatedImage\n",
            "  File \"/usr/local/lib/python3.10/dist-packages/gradio/components/annotated_image.py\", line 13, in <module>\n",
            "    from gradio.components.base import IOComponent, _Keywords\n",
            "  File \"/usr/local/lib/python3.10/dist-packages/gradio/components/base.py\", line 29, in <module>\n",
            "    from gradio.blocks import Block, BlockContext\n",
            "  File \"/usr/local/lib/python3.10/dist-packages/gradio/blocks.py\", line 28, in <module>\n",
            "    from gradio import (\n",
            "  File \"/usr/local/lib/python3.10/dist-packages/gradio/analytics.py\", line 11, in <module>\n",
            "    from distutils.version import StrictVersion\n",
            "  File \"<frozen importlib._bootstrap>\", line 1027, in _find_and_load\n",
            "  File \"<frozen importlib._bootstrap>\", line 1002, in _find_and_load_unlocked\n",
            "  File \"<frozen importlib._bootstrap>\", line 945, in _find_spec\n",
            "  File \"/usr/local/lib/python3.10/dist-packages/_distutils_hack/__init__.py\", line 97, in find_spec\n",
            "    return method()\n",
            "  File \"/usr/local/lib/python3.10/dist-packages/_distutils_hack/__init__.py\", line 108, in spec_for_distutils\n",
            "    mod = importlib.import_module('setuptools._distutils')\n",
            "  File \"/usr/lib/python3.10/importlib/__init__.py\", line 126, in import_module\n",
            "    return _bootstrap._gcd_import(name[level:], package, level)\n",
            "  File \"/usr/local/lib/python3.10/dist-packages/setuptools/__init__.py\", line 17, in <module>\n",
            "    from setuptools.dist import Distribution\n",
            "  File \"/usr/local/lib/python3.10/dist-packages/setuptools/dist.py\", line 37, in <module>\n",
            "    from setuptools.config import setupcfg, pyprojecttoml\n",
            "  File \"/usr/local/lib/python3.10/dist-packages/setuptools/config/__init__.py\", line 8, in <module>\n",
            "    from . import setupcfg\n",
            "  File \"<frozen importlib._bootstrap>\", line 1027, in _find_and_load\n",
            "  File \"<frozen importlib._bootstrap>\", line 1006, in _find_and_load_unlocked\n",
            "  File \"<frozen importlib._bootstrap>\", line 688, in _load_unlocked\n",
            "  File \"<frozen importlib._bootstrap_external>\", line 879, in exec_module\n",
            "  File \"<frozen importlib._bootstrap_external>\", line 1012, in get_code\n",
            "  File \"<frozen importlib._bootstrap_external>\", line 674, in _compile_bytecode\n",
            "  File \"<frozen importlib._bootstrap>\", line 246, in _verbose_message\n",
            "KeyboardInterrupt\n",
            "^C\n"
          ]
        }
      ]
    },
    {
      "cell_type": "code",
      "source": [
        "!git remote add upstream https://github.com/jimenez1917/Fooocus.git\n",
        "\n"
      ],
      "metadata": {
        "id": "oZ1Y3nDBNKNh",
        "outputId": "498f7496-24d8-497b-f902-7a3b64437da8",
        "colab": {
          "base_uri": "https://localhost:8080/"
        }
      },
      "execution_count": 6,
      "outputs": [
        {
          "output_type": "stream",
          "name": "stdout",
          "text": [
            "error: remote upstream already exists.\n"
          ]
        }
      ]
    },
    {
      "cell_type": "code",
      "source": [
        "!git fetch upstream\n",
        "!git checkout main  # o usa 'master' si el repositorio original utiliza 'master'\n",
        "!git merge upstream/main  # o 'upstream/master' según corresponda\n",
        "!git push origin main"
      ],
      "metadata": {
        "id": "aN2NNEM3N1yP",
        "outputId": "ac4d643b-d9d8-4528-c48b-beeacb0a6bd7",
        "colab": {
          "base_uri": "https://localhost:8080/"
        }
      },
      "execution_count": 11,
      "outputs": [
        {
          "output_type": "stream",
          "name": "stdout",
          "text": [
            "M\tmodules/config.py\n",
            "Already on 'main'\n",
            "Your branch is up to date with 'origin/main'.\n",
            "Already up to date.\n",
            "fatal: could not read Username for 'https://github.com': No such device or address\n"
          ]
        }
      ]
    },
    {
      "cell_type": "code",
      "source": [
        "!git config --global user.email \"jimenez1917@gmail.com\"\n",
        "!git config --global user.name \"jimenez1917\"\n",
        "\n"
      ],
      "metadata": {
        "id": "-euKVvA3N88J"
      },
      "execution_count": 9,
      "outputs": []
    },
    {
      "cell_type": "code",
      "source": [
        "!git push origin main  # o 'master', según la rama que estés usando\n"
      ],
      "metadata": {
        "id": "6WDSiUCROUDF",
        "outputId": "71387cad-0173-4dfe-98c8-5d2e052827e8",
        "colab": {
          "base_uri": "https://localhost:8080/"
        }
      },
      "execution_count": 10,
      "outputs": [
        {
          "output_type": "stream",
          "name": "stdout",
          "text": [
            "fatal: could not read Username for 'https://github.com': No such device or address\n"
          ]
        }
      ]
    }
  ],
  "metadata": {
    "accelerator": "GPU",
    "colab": {
      "gpuType": "T4",
      "provenance": [],
      "include_colab_link": true
    },
    "kernelspec": {
      "display_name": "Python 3",
      "name": "python3"
    },
    "language_info": {
      "name": "python"
    }
  },
  "nbformat": 4,
  "nbformat_minor": 0
}